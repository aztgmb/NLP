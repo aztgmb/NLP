{
  "nbformat": 4,
  "nbformat_minor": 0,
  "metadata": {
    "colab": {
      "name": "Transformer_BERT_PyTorch.ipynb",
      "provenance": [],
      "collapsed_sections": []
    },
    "kernelspec": {
      "name": "python3",
      "display_name": "Python 3"
    },
    "accelerator": "GPU",
    "widgets": {
      "application/vnd.jupyter.widget-state+json": {
        "88db13326ab64c09a22cdda9bf0b102f": {
          "model_module": "@jupyter-widgets/controls",
          "model_name": "HBoxModel",
          "state": {
            "_view_name": "HBoxView",
            "_dom_classes": [],
            "_model_name": "HBoxModel",
            "_view_module": "@jupyter-widgets/controls",
            "_model_module_version": "1.5.0",
            "_view_count": null,
            "_view_module_version": "1.5.0",
            "box_style": "",
            "layout": "IPY_MODEL_81c68f80c19c467ca893050bba667242",
            "_model_module": "@jupyter-widgets/controls",
            "children": [
              "IPY_MODEL_d85026d2640846e0851e4ffe8f8447a7",
              "IPY_MODEL_8bcd0c8349a949829bbcd48bc5c4885e"
            ]
          }
        },
        "81c68f80c19c467ca893050bba667242": {
          "model_module": "@jupyter-widgets/base",
          "model_name": "LayoutModel",
          "state": {
            "_view_name": "LayoutView",
            "grid_template_rows": null,
            "right": null,
            "justify_content": null,
            "_view_module": "@jupyter-widgets/base",
            "overflow": null,
            "_model_module_version": "1.2.0",
            "_view_count": null,
            "flex_flow": null,
            "width": null,
            "min_width": null,
            "border": null,
            "align_items": null,
            "bottom": null,
            "_model_module": "@jupyter-widgets/base",
            "top": null,
            "grid_column": null,
            "overflow_y": null,
            "overflow_x": null,
            "grid_auto_flow": null,
            "grid_area": null,
            "grid_template_columns": null,
            "flex": null,
            "_model_name": "LayoutModel",
            "justify_items": null,
            "grid_row": null,
            "max_height": null,
            "align_content": null,
            "visibility": null,
            "align_self": null,
            "height": null,
            "min_height": null,
            "padding": null,
            "grid_auto_rows": null,
            "grid_gap": null,
            "max_width": null,
            "order": null,
            "_view_module_version": "1.2.0",
            "grid_template_areas": null,
            "object_position": null,
            "object_fit": null,
            "grid_auto_columns": null,
            "margin": null,
            "display": null,
            "left": null
          }
        },
        "d85026d2640846e0851e4ffe8f8447a7": {
          "model_module": "@jupyter-widgets/controls",
          "model_name": "FloatProgressModel",
          "state": {
            "_view_name": "ProgressView",
            "style": "IPY_MODEL_e6c0a655f8744e67882f767204075836",
            "_dom_classes": [],
            "description": "Downloading: 100%",
            "_model_name": "FloatProgressModel",
            "bar_style": "success",
            "max": 231508,
            "_view_module": "@jupyter-widgets/controls",
            "_model_module_version": "1.5.0",
            "value": 231508,
            "_view_count": null,
            "_view_module_version": "1.5.0",
            "orientation": "horizontal",
            "min": 0,
            "description_tooltip": null,
            "_model_module": "@jupyter-widgets/controls",
            "layout": "IPY_MODEL_099747b7e6724ba2919390f876c93b9c"
          }
        },
        "8bcd0c8349a949829bbcd48bc5c4885e": {
          "model_module": "@jupyter-widgets/controls",
          "model_name": "HTMLModel",
          "state": {
            "_view_name": "HTMLView",
            "style": "IPY_MODEL_257b55ae54924a08a519eb291cfce2fa",
            "_dom_classes": [],
            "description": "",
            "_model_name": "HTMLModel",
            "placeholder": "​",
            "_view_module": "@jupyter-widgets/controls",
            "_model_module_version": "1.5.0",
            "value": " 232k/232k [00:29&lt;00:00, 7.83kB/s]",
            "_view_count": null,
            "_view_module_version": "1.5.0",
            "description_tooltip": null,
            "_model_module": "@jupyter-widgets/controls",
            "layout": "IPY_MODEL_81f1e6bc1f2c4afd911e5c1db3b9f509"
          }
        },
        "e6c0a655f8744e67882f767204075836": {
          "model_module": "@jupyter-widgets/controls",
          "model_name": "ProgressStyleModel",
          "state": {
            "_view_name": "StyleView",
            "_model_name": "ProgressStyleModel",
            "description_width": "initial",
            "_view_module": "@jupyter-widgets/base",
            "_model_module_version": "1.5.0",
            "_view_count": null,
            "_view_module_version": "1.2.0",
            "bar_color": null,
            "_model_module": "@jupyter-widgets/controls"
          }
        },
        "099747b7e6724ba2919390f876c93b9c": {
          "model_module": "@jupyter-widgets/base",
          "model_name": "LayoutModel",
          "state": {
            "_view_name": "LayoutView",
            "grid_template_rows": null,
            "right": null,
            "justify_content": null,
            "_view_module": "@jupyter-widgets/base",
            "overflow": null,
            "_model_module_version": "1.2.0",
            "_view_count": null,
            "flex_flow": null,
            "width": null,
            "min_width": null,
            "border": null,
            "align_items": null,
            "bottom": null,
            "_model_module": "@jupyter-widgets/base",
            "top": null,
            "grid_column": null,
            "overflow_y": null,
            "overflow_x": null,
            "grid_auto_flow": null,
            "grid_area": null,
            "grid_template_columns": null,
            "flex": null,
            "_model_name": "LayoutModel",
            "justify_items": null,
            "grid_row": null,
            "max_height": null,
            "align_content": null,
            "visibility": null,
            "align_self": null,
            "height": null,
            "min_height": null,
            "padding": null,
            "grid_auto_rows": null,
            "grid_gap": null,
            "max_width": null,
            "order": null,
            "_view_module_version": "1.2.0",
            "grid_template_areas": null,
            "object_position": null,
            "object_fit": null,
            "grid_auto_columns": null,
            "margin": null,
            "display": null,
            "left": null
          }
        },
        "257b55ae54924a08a519eb291cfce2fa": {
          "model_module": "@jupyter-widgets/controls",
          "model_name": "DescriptionStyleModel",
          "state": {
            "_view_name": "StyleView",
            "_model_name": "DescriptionStyleModel",
            "description_width": "",
            "_view_module": "@jupyter-widgets/base",
            "_model_module_version": "1.5.0",
            "_view_count": null,
            "_view_module_version": "1.2.0",
            "_model_module": "@jupyter-widgets/controls"
          }
        },
        "81f1e6bc1f2c4afd911e5c1db3b9f509": {
          "model_module": "@jupyter-widgets/base",
          "model_name": "LayoutModel",
          "state": {
            "_view_name": "LayoutView",
            "grid_template_rows": null,
            "right": null,
            "justify_content": null,
            "_view_module": "@jupyter-widgets/base",
            "overflow": null,
            "_model_module_version": "1.2.0",
            "_view_count": null,
            "flex_flow": null,
            "width": null,
            "min_width": null,
            "border": null,
            "align_items": null,
            "bottom": null,
            "_model_module": "@jupyter-widgets/base",
            "top": null,
            "grid_column": null,
            "overflow_y": null,
            "overflow_x": null,
            "grid_auto_flow": null,
            "grid_area": null,
            "grid_template_columns": null,
            "flex": null,
            "_model_name": "LayoutModel",
            "justify_items": null,
            "grid_row": null,
            "max_height": null,
            "align_content": null,
            "visibility": null,
            "align_self": null,
            "height": null,
            "min_height": null,
            "padding": null,
            "grid_auto_rows": null,
            "grid_gap": null,
            "max_width": null,
            "order": null,
            "_view_module_version": "1.2.0",
            "grid_template_areas": null,
            "object_position": null,
            "object_fit": null,
            "grid_auto_columns": null,
            "margin": null,
            "display": null,
            "left": null
          }
        }
      }
    }
  },
  "cells": [
    {
      "cell_type": "code",
      "metadata": {
        "id": "tbhUu-du3Jv3"
      },
      "source": [
        "raw_data_path = '/content/drive/My Drive/transformer/data/news.csv'\r\n",
        "destination_folder = '/content/drive/My Drive/transformer/data'"
      ],
      "execution_count": null,
      "outputs": []
    },
    {
      "cell_type": "code",
      "metadata": {
        "id": "RxW2VYyM3KGw"
      },
      "source": [
        "train_test_ratio = 0.10\r\n",
        "train_valid_ratio = 0.80\r\n",
        "\r\n",
        "first_n_words = 200"
      ],
      "execution_count": null,
      "outputs": []
    },
    {
      "cell_type": "code",
      "metadata": {
        "id": "pu_VDi6b3Kgr"
      },
      "source": [
        "import pandas as pd\r\n",
        "from sklearn.model_selection import train_test_split"
      ],
      "execution_count": null,
      "outputs": []
    },
    {
      "cell_type": "code",
      "metadata": {
        "id": "jdEtwkdo3K_b"
      },
      "source": [
        "def trim_string(x):\r\n",
        "\r\n",
        "    x = x.split(maxsplit=first_n_words)\r\n",
        "    x = ' '.join(x[:first_n_words])\r\n",
        "\r\n",
        "    return x"
      ],
      "execution_count": null,
      "outputs": []
    },
    {
      "cell_type": "code",
      "metadata": {
        "id": "EgK7UaNG3LX0"
      },
      "source": [
        "df_raw = pd.read_csv(raw_data_path)\r\n",
        "\r\n",
        "df_raw['label'] = (df_raw['label'] == 'FAKE').astype('int')\r\n",
        "df_raw['titletext'] = df_raw['title'] + \". \" + df_raw['text']\r\n",
        "df_raw = df_raw.reindex(columns=['label', 'title', 'text', 'titletext'])\r\n",
        "\r\n",
        "df_raw.drop( df_raw[df_raw.text.str.len() < 5].index, inplace=True)\r\n",
        "\r\n",
        "df_raw['text'] = df_raw['text'].apply(trim_string)\r\n",
        "df_raw['titletext'] = df_raw['titletext'].apply(trim_string) \r\n",
        "\r\n",
        "df_real = df_raw[df_raw['label'] == 0]\r\n",
        "df_fake = df_raw[df_raw['label'] == 1]\r\n",
        "\r\n",
        "df_real_full_train, df_real_test = train_test_split(df_real, train_size = train_test_ratio, random_state = 1)\r\n",
        "df_fake_full_train, df_fake_test = train_test_split(df_fake, train_size = train_test_ratio, random_state = 1)\r\n",
        "\r\n",
        "df_real_train, df_real_valid = train_test_split(df_real_full_train, train_size = train_valid_ratio, random_state = 1)\r\n",
        "df_fake_train, df_fake_valid = train_test_split(df_fake_full_train, train_size = train_valid_ratio, random_state = 1)\r\n",
        "\r\n",
        "df_train = pd.concat([df_real_train, df_fake_train], ignore_index=True, sort=False)\r\n",
        "df_valid = pd.concat([df_real_valid, df_fake_valid], ignore_index=True, sort=False)\r\n",
        "df_test = pd.concat([df_real_test, df_fake_test], ignore_index=True, sort=False)\r\n",
        "\r\n",
        "df_train.to_csv(destination_folder + '/train.csv', index=False)\r\n",
        "df_valid.to_csv(destination_folder + '/valid.csv', index=False)\r\n",
        "df_test.to_csv(destination_folder + '/test.csv', index=False)"
      ],
      "execution_count": null,
      "outputs": []
    },
    {
      "cell_type": "code",
      "metadata": {
        "id": "ZO-zMBO24R6X"
      },
      "source": [
        "source_folder = '/content/drive/My Drive/transformer/data'\r\n",
        "destination_folder = '/content/drive/My Drive/transformer/model'"
      ],
      "execution_count": null,
      "outputs": []
    },
    {
      "cell_type": "code",
      "metadata": {
        "colab": {
          "base_uri": "https://localhost:8080/"
        },
        "id": "m6ma9ymH4SVO",
        "outputId": "a9632a7f-5416-42e3-a46a-739fe8f5a67f"
      },
      "source": [
        "!pip install transformers"
      ],
      "execution_count": null,
      "outputs": [
        {
          "output_type": "stream",
          "text": [
            "Collecting transformers\n",
            "\u001b[?25l  Downloading https://files.pythonhosted.org/packages/98/87/ef312eef26f5cecd8b17ae9654cdd8d1fae1eb6dbd87257d6d73c128a4d0/transformers-4.3.2-py3-none-any.whl (1.8MB)\n",
            "\u001b[K     |████████████████████████████████| 1.8MB 4.2MB/s \n",
            "\u001b[?25hRequirement already satisfied: dataclasses; python_version < \"3.7\" in /usr/local/lib/python3.6/dist-packages (from transformers) (0.8)\n",
            "Requirement already satisfied: packaging in /usr/local/lib/python3.6/dist-packages (from transformers) (20.9)\n",
            "Requirement already satisfied: numpy>=1.17 in /usr/local/lib/python3.6/dist-packages (from transformers) (1.19.5)\n",
            "Requirement already satisfied: regex!=2019.12.17 in /usr/local/lib/python3.6/dist-packages (from transformers) (2019.12.20)\n",
            "Collecting sacremoses\n",
            "\u001b[?25l  Downloading https://files.pythonhosted.org/packages/7d/34/09d19aff26edcc8eb2a01bed8e98f13a1537005d31e95233fd48216eed10/sacremoses-0.0.43.tar.gz (883kB)\n",
            "\u001b[K     |████████████████████████████████| 890kB 25.9MB/s \n",
            "\u001b[?25hCollecting tokenizers<0.11,>=0.10.1\n",
            "\u001b[?25l  Downloading https://files.pythonhosted.org/packages/fd/5b/44baae602e0a30bcc53fbdbc60bd940c15e143d252d658dfdefce736ece5/tokenizers-0.10.1-cp36-cp36m-manylinux2010_x86_64.whl (3.2MB)\n",
            "\u001b[K     |████████████████████████████████| 3.2MB 21.4MB/s \n",
            "\u001b[?25hRequirement already satisfied: filelock in /usr/local/lib/python3.6/dist-packages (from transformers) (3.0.12)\n",
            "Requirement already satisfied: requests in /usr/local/lib/python3.6/dist-packages (from transformers) (2.23.0)\n",
            "Requirement already satisfied: tqdm>=4.27 in /usr/local/lib/python3.6/dist-packages (from transformers) (4.41.1)\n",
            "Requirement already satisfied: importlib-metadata; python_version < \"3.8\" in /usr/local/lib/python3.6/dist-packages (from transformers) (3.4.0)\n",
            "Requirement already satisfied: pyparsing>=2.0.2 in /usr/local/lib/python3.6/dist-packages (from packaging->transformers) (2.4.7)\n",
            "Requirement already satisfied: six in /usr/local/lib/python3.6/dist-packages (from sacremoses->transformers) (1.15.0)\n",
            "Requirement already satisfied: click in /usr/local/lib/python3.6/dist-packages (from sacremoses->transformers) (7.1.2)\n",
            "Requirement already satisfied: joblib in /usr/local/lib/python3.6/dist-packages (from sacremoses->transformers) (1.0.0)\n",
            "Requirement already satisfied: certifi>=2017.4.17 in /usr/local/lib/python3.6/dist-packages (from requests->transformers) (2020.12.5)\n",
            "Requirement already satisfied: urllib3!=1.25.0,!=1.25.1,<1.26,>=1.21.1 in /usr/local/lib/python3.6/dist-packages (from requests->transformers) (1.24.3)\n",
            "Requirement already satisfied: chardet<4,>=3.0.2 in /usr/local/lib/python3.6/dist-packages (from requests->transformers) (3.0.4)\n",
            "Requirement already satisfied: idna<3,>=2.5 in /usr/local/lib/python3.6/dist-packages (from requests->transformers) (2.10)\n",
            "Requirement already satisfied: zipp>=0.5 in /usr/local/lib/python3.6/dist-packages (from importlib-metadata; python_version < \"3.8\"->transformers) (3.4.0)\n",
            "Requirement already satisfied: typing-extensions>=3.6.4; python_version < \"3.8\" in /usr/local/lib/python3.6/dist-packages (from importlib-metadata; python_version < \"3.8\"->transformers) (3.7.4.3)\n",
            "Building wheels for collected packages: sacremoses\n",
            "  Building wheel for sacremoses (setup.py) ... \u001b[?25l\u001b[?25hdone\n",
            "  Created wheel for sacremoses: filename=sacremoses-0.0.43-cp36-none-any.whl size=893261 sha256=0e12bc5841b95c275f610726f2a303738eee19a17a2b2fb3e214a701432c70e7\n",
            "  Stored in directory: /root/.cache/pip/wheels/29/3c/fd/7ce5c3f0666dab31a50123635e6fb5e19ceb42ce38d4e58f45\n",
            "Successfully built sacremoses\n",
            "Installing collected packages: sacremoses, tokenizers, transformers\n",
            "Successfully installed sacremoses-0.0.43 tokenizers-0.10.1 transformers-4.3.2\n"
          ],
          "name": "stdout"
        }
      ]
    },
    {
      "cell_type": "code",
      "metadata": {
        "id": "owZJIog14SuX"
      },
      "source": [
        "import matplotlib.pyplot as plt\r\n",
        "import pandas as pd\r\n",
        "import torch\r\n",
        "from torchtext.data import Field, TabularDataset, BucketIterator, Iterator\r\n",
        "import torch.nn as nn\r\n",
        "from transformers import BertTokenizer, BertForSequenceClassification\r\n",
        "import torch.optim as optim\r\n",
        "from sklearn.metrics import accuracy_score, classification_report, confusion_matrix\r\n",
        "import seaborn as sns"
      ],
      "execution_count": null,
      "outputs": []
    },
    {
      "cell_type": "code",
      "metadata": {
        "colab": {
          "base_uri": "https://localhost:8080/"
        },
        "id": "8YHLZb-e4THw",
        "outputId": "db50cbc7-8e44-4452-c62f-5daeb8a5f679"
      },
      "source": [
        "device = torch.device('cuda:0' if torch.cuda.is_available() else 'cpu')\r\n",
        "print(device)"
      ],
      "execution_count": null,
      "outputs": [
        {
          "output_type": "stream",
          "text": [
            "cuda:0\n"
          ],
          "name": "stdout"
        }
      ]
    },
    {
      "cell_type": "code",
      "metadata": {
        "colab": {
          "base_uri": "https://localhost:8080/",
          "height": 67,
          "referenced_widgets": [
            "88db13326ab64c09a22cdda9bf0b102f",
            "81c68f80c19c467ca893050bba667242",
            "d85026d2640846e0851e4ffe8f8447a7",
            "8bcd0c8349a949829bbcd48bc5c4885e",
            "e6c0a655f8744e67882f767204075836",
            "099747b7e6724ba2919390f876c93b9c",
            "257b55ae54924a08a519eb291cfce2fa",
            "81f1e6bc1f2c4afd911e5c1db3b9f509"
          ]
        },
        "id": "aK24tvuY4Tp6",
        "outputId": "12129d7c-6222-43d7-ff12-bb4717edd266"
      },
      "source": [
        "tokenizer = BertTokenizer.from_pretrained('bert-base-uncased')"
      ],
      "execution_count": null,
      "outputs": [
        {
          "output_type": "display_data",
          "data": {
            "application/vnd.jupyter.widget-view+json": {
              "model_id": "88db13326ab64c09a22cdda9bf0b102f",
              "version_minor": 0,
              "version_major": 2
            },
            "text/plain": [
              "HBox(children=(FloatProgress(value=0.0, description='Downloading', max=231508.0, style=ProgressStyle(descripti…"
            ]
          },
          "metadata": {
            "tags": []
          }
        },
        {
          "output_type": "stream",
          "text": [
            "\n"
          ],
          "name": "stdout"
        }
      ]
    },
    {
      "cell_type": "code",
      "metadata": {
        "colab": {
          "base_uri": "https://localhost:8080/"
        },
        "id": "W-D43IWq5HF4",
        "outputId": "eba62e01-e63c-4007-f947-d499d9c8e68e"
      },
      "source": [
        "MAX_SEQ_LEN = 128\r\n",
        "PAD_INDEX = tokenizer.convert_tokens_to_ids(tokenizer.pad_token)\r\n",
        "UNK_INDEX = tokenizer.convert_tokens_to_ids(tokenizer.unk_token)\r\n",
        "\r\n",
        "label_field = Field(sequential=False, use_vocab=False, batch_first=True, dtype=torch.float)\r\n",
        "text_field = Field(use_vocab=False, tokenize=tokenizer.encode, lower=False, include_lengths=False, batch_first=True,\r\n",
        "                   fix_length=MAX_SEQ_LEN, pad_token=PAD_INDEX, unk_token=UNK_INDEX)\r\n",
        "fields = [('label', label_field), ('title', text_field), ('text', text_field), ('titletext', text_field)]\r\n",
        "\r\n",
        "train, valid, test = TabularDataset.splits(path=source_folder, train='train.csv', validation='valid.csv',\r\n",
        "                                           test='test.csv', format='CSV', fields=fields, skip_header=True)\r\n",
        "\r\n",
        "\r\n",
        "train_iter = BucketIterator(train, batch_size=16, sort_key=lambda x: len(x.text),\r\n",
        "                            device=device, train=True, sort=True, sort_within_batch=True)\r\n",
        "valid_iter = BucketIterator(valid, batch_size=16, sort_key=lambda x: len(x.text),\r\n",
        "                            device=device, train=True, sort=True, sort_within_batch=True)\r\n",
        "test_iter = Iterator(test, batch_size=16, device=device, train=False, shuffle=False, sort=False)"
      ],
      "execution_count": null,
      "outputs": [
        {
          "output_type": "stream",
          "text": [
            "Token indices sequence length is longer than the specified maximum sequence length for this model (706 > 512). Running this sequence through the model will result in indexing errors\n"
          ],
          "name": "stderr"
        }
      ]
    },
    {
      "cell_type": "code",
      "metadata": {
        "id": "jDOkAn-f5HXZ"
      },
      "source": [
        "class BERT(nn.Module):\r\n",
        "\r\n",
        "    def __init__(self):\r\n",
        "        super(BERT, self).__init__()\r\n",
        "\r\n",
        "        options_name = \"bert-base-uncased\"\r\n",
        "        self.encoder = BertForSequenceClassification.from_pretrained(options_name)\r\n",
        "\r\n",
        "    def forward(self, text, label):\r\n",
        "        loss, text_fea = self.encoder(text, labels=label)[:2]\r\n",
        "\r\n",
        "        return loss, text_fea"
      ],
      "execution_count": null,
      "outputs": []
    },
    {
      "cell_type": "code",
      "metadata": {
        "id": "U7h_XT6-5Hze"
      },
      "source": [
        "def save_checkpoint(save_path, model, valid_loss):\r\n",
        "\r\n",
        "    if save_path == None:\r\n",
        "        return\r\n",
        "    \r\n",
        "    state_dict = {'model_state_dict': model.state_dict(),\r\n",
        "                  'valid_loss': valid_loss}\r\n",
        "    \r\n",
        "    torch.save(state_dict, save_path)\r\n",
        "    print(f'Model saved to ==> {save_path}')\r\n",
        "\r\n",
        "def load_checkpoint(load_path, model):\r\n",
        "    \r\n",
        "    if load_path==None:\r\n",
        "        return\r\n",
        "    \r\n",
        "    state_dict = torch.load(load_path, map_location=device)\r\n",
        "    print(f'Model loaded from <== {load_path}')\r\n",
        "    \r\n",
        "    model.load_state_dict(state_dict['model_state_dict'])\r\n",
        "    return state_dict['valid_loss']\r\n",
        "\r\n",
        "\r\n",
        "def save_metrics(save_path, train_loss_list, valid_loss_list, global_steps_list):\r\n",
        "\r\n",
        "    if save_path == None:\r\n",
        "        return\r\n",
        "    \r\n",
        "    state_dict = {'train_loss_list': train_loss_list,\r\n",
        "                  'valid_loss_list': valid_loss_list,\r\n",
        "                  'global_steps_list': global_steps_list}\r\n",
        "    \r\n",
        "    torch.save(state_dict, save_path)\r\n",
        "    print(f'Model saved to ==> {save_path}')\r\n",
        "\r\n",
        "\r\n",
        "def load_metrics(load_path):\r\n",
        "\r\n",
        "    if load_path==None:\r\n",
        "        return\r\n",
        "    \r\n",
        "    state_dict = torch.load(load_path, map_location=device)\r\n",
        "    print(f'Model loaded from <== {load_path}')\r\n",
        "    \r\n",
        "    return state_dict['train_loss_list'], state_dict['valid_loss_list'], state_dict['global_steps_list']"
      ],
      "execution_count": null,
      "outputs": []
    },
    {
      "cell_type": "code",
      "metadata": {
        "id": "yK8zHJ0U5QoF"
      },
      "source": [
        "def train(model,\r\n",
        "          optimizer,\r\n",
        "          criterion = nn.BCELoss(),\r\n",
        "          train_loader = train_iter,\r\n",
        "          valid_loader = valid_iter,\r\n",
        "          num_epochs = 5,\r\n",
        "          eval_every = len(train_iter) // 2,\r\n",
        "          file_path = destination_folder,\r\n",
        "          best_valid_loss = float(\"Inf\")):\r\n",
        "    \r\n",
        "    running_loss = 0.0\r\n",
        "    valid_running_loss = 0.0\r\n",
        "    global_step = 0\r\n",
        "    train_loss_list = []\r\n",
        "    valid_loss_list = []\r\n",
        "    global_steps_list = []\r\n",
        "\r\n",
        "    model.train()\r\n",
        "    for epoch in range(num_epochs):\r\n",
        "        for (labels, title, text, titletext), _ in train_loader:\r\n",
        "            labels = labels.type(torch.LongTensor)           \r\n",
        "            labels = labels.to(device)\r\n",
        "            titletext = titletext.type(torch.LongTensor)  \r\n",
        "            titletext = titletext.to(device)\r\n",
        "            output = model(titletext, labels)\r\n",
        "            loss, _ = output\r\n",
        "\r\n",
        "            optimizer.zero_grad()\r\n",
        "            loss.backward()\r\n",
        "            optimizer.step()\r\n",
        "\r\n",
        "            \r\n",
        "            running_loss += loss.item()\r\n",
        "            global_step += 1\r\n",
        "\r\n",
        "            \r\n",
        "            if global_step % eval_every == 0:\r\n",
        "                model.eval()\r\n",
        "                with torch.no_grad():                    \r\n",
        "\r\n",
        "                    \r\n",
        "                    for (labels, title, text, titletext), _ in valid_loader:\r\n",
        "                        labels = labels.type(torch.LongTensor)           \r\n",
        "                        labels = labels.to(device)\r\n",
        "                        titletext = titletext.type(torch.LongTensor)  \r\n",
        "                        titletext = titletext.to(device)\r\n",
        "                        output = model(titletext, labels)\r\n",
        "                        loss, _ = output\r\n",
        "                        \r\n",
        "                        valid_running_loss += loss.item()\r\n",
        "\r\n",
        "                \r\n",
        "                average_train_loss = running_loss / eval_every\r\n",
        "                average_valid_loss = valid_running_loss / len(valid_loader)\r\n",
        "                train_loss_list.append(average_train_loss)\r\n",
        "                valid_loss_list.append(average_valid_loss)\r\n",
        "                global_steps_list.append(global_step)\r\n",
        "\r\n",
        "                \r\n",
        "                running_loss = 0.0                \r\n",
        "                valid_running_loss = 0.0\r\n",
        "                model.train()\r\n",
        "\r\n",
        "                \r\n",
        "                print('Epoch [{}/{}], Step [{}/{}], Train Loss: {:.4f}, Valid Loss: {:.4f}'\r\n",
        "                      .format(epoch+1, num_epochs, global_step, num_epochs*len(train_loader),\r\n",
        "                              average_train_loss, average_valid_loss))\r\n",
        "                \r\n",
        "                \r\n",
        "                if best_valid_loss > average_valid_loss:\r\n",
        "                    best_valid_loss = average_valid_loss\r\n",
        "                    save_checkpoint(file_path + '/' + 'model.pt', model, best_valid_loss)\r\n",
        "                    save_metrics(file_path + '/' + 'metrics.pt', train_loss_list, valid_loss_list, global_steps_list)\r\n",
        "    \r\n",
        "    save_metrics(file_path + '/' + 'metrics.pt', train_loss_list, valid_loss_list, global_steps_list)\r\n",
        "    print('Finished Training!')"
      ],
      "execution_count": null,
      "outputs": []
    },
    {
      "cell_type": "code",
      "metadata": {
        "colab": {
          "base_uri": "https://localhost:8080/"
        },
        "id": "pozDvOWv5Q5h",
        "outputId": "f8c34664-641a-4e7f-ccf4-1a4a8a095a68"
      },
      "source": [
        "model = BERT().to(device)\r\n",
        "optimizer = optim.Adam(model.parameters(), lr=2e-5)\r\n",
        "\r\n",
        "train(model=model, optimizer=optimizer)"
      ],
      "execution_count": null,
      "outputs": [
        {
          "output_type": "stream",
          "text": [
            "Some weights of the model checkpoint at bert-base-uncased were not used when initializing BertForSequenceClassification: ['cls.predictions.bias', 'cls.predictions.transform.dense.weight', 'cls.predictions.transform.dense.bias', 'cls.predictions.decoder.weight', 'cls.seq_relationship.weight', 'cls.seq_relationship.bias', 'cls.predictions.transform.LayerNorm.weight', 'cls.predictions.transform.LayerNorm.bias']\n",
            "- This IS expected if you are initializing BertForSequenceClassification from the checkpoint of a model trained on another task or with another architecture (e.g. initializing a BertForSequenceClassification model from a BertForPreTraining model).\n",
            "- This IS NOT expected if you are initializing BertForSequenceClassification from the checkpoint of a model that you expect to be exactly identical (initializing a BertForSequenceClassification model from a BertForSequenceClassification model).\n",
            "Some weights of BertForSequenceClassification were not initialized from the model checkpoint at bert-base-uncased and are newly initialized: ['classifier.weight', 'classifier.bias']\n",
            "You should probably TRAIN this model on a down-stream task to be able to use it for predictions and inference.\n"
          ],
          "name": "stderr"
        },
        {
          "output_type": "stream",
          "text": [
            "Epoch [1/5], Step [16/160], Train Loss: 0.7374, Valid Loss: 0.6584\n",
            "Model saved to ==> /content/drive/My Drive/transformer/model/model.pt\n",
            "Model saved to ==> /content/drive/My Drive/transformer/model/metrics.pt\n",
            "Epoch [1/5], Step [32/160], Train Loss: 0.5462, Valid Loss: 0.4471\n",
            "Model saved to ==> /content/drive/My Drive/transformer/model/model.pt\n",
            "Model saved to ==> /content/drive/My Drive/transformer/model/metrics.pt\n",
            "Epoch [2/5], Step [48/160], Train Loss: 0.4289, Valid Loss: 0.3095\n",
            "Model saved to ==> /content/drive/My Drive/transformer/model/model.pt\n",
            "Model saved to ==> /content/drive/My Drive/transformer/model/metrics.pt\n",
            "Epoch [2/5], Step [64/160], Train Loss: 0.2248, Valid Loss: 0.3089\n",
            "Model saved to ==> /content/drive/My Drive/transformer/model/model.pt\n",
            "Model saved to ==> /content/drive/My Drive/transformer/model/metrics.pt\n",
            "Epoch [3/5], Step [80/160], Train Loss: 0.1886, Valid Loss: 0.2897\n",
            "Model saved to ==> /content/drive/My Drive/transformer/model/model.pt\n",
            "Model saved to ==> /content/drive/My Drive/transformer/model/metrics.pt\n",
            "Epoch [3/5], Step [96/160], Train Loss: 0.1511, Valid Loss: 0.2155\n",
            "Model saved to ==> /content/drive/My Drive/transformer/model/model.pt\n",
            "Model saved to ==> /content/drive/My Drive/transformer/model/metrics.pt\n",
            "Epoch [4/5], Step [112/160], Train Loss: 0.0987, Valid Loss: 0.1966\n",
            "Model saved to ==> /content/drive/My Drive/transformer/model/model.pt\n",
            "Model saved to ==> /content/drive/My Drive/transformer/model/metrics.pt\n",
            "Epoch [4/5], Step [128/160], Train Loss: 0.0931, Valid Loss: 0.1677\n",
            "Model saved to ==> /content/drive/My Drive/transformer/model/model.pt\n",
            "Model saved to ==> /content/drive/My Drive/transformer/model/metrics.pt\n",
            "Epoch [5/5], Step [144/160], Train Loss: 0.0362, Valid Loss: 0.1798\n",
            "Epoch [5/5], Step [160/160], Train Loss: 0.0351, Valid Loss: 0.2062\n",
            "Model saved to ==> /content/drive/My Drive/transformer/model/metrics.pt\n",
            "Finished Training!\n"
          ],
          "name": "stdout"
        }
      ]
    },
    {
      "cell_type": "code",
      "metadata": {
        "colab": {
          "base_uri": "https://localhost:8080/",
          "height": 297
        },
        "id": "Z_wfaaqu5RO9",
        "outputId": "9fe0c9d9-d116-4ac1-9cc9-fae12e86aafc"
      },
      "source": [
        "train_loss_list, valid_loss_list, global_steps_list = load_metrics(destination_folder + '/metrics.pt')\r\n",
        "plt.plot(global_steps_list, train_loss_list, label='Train')\r\n",
        "plt.plot(global_steps_list, valid_loss_list, label='Valid')\r\n",
        "plt.xlabel('Global Steps')\r\n",
        "plt.ylabel('Loss')\r\n",
        "plt.legend()\r\n",
        "plt.show() "
      ],
      "execution_count": null,
      "outputs": [
        {
          "output_type": "stream",
          "text": [
            "Model loaded from <== /content/drive/My Drive/transformer/model/metrics.pt\n"
          ],
          "name": "stdout"
        },
        {
          "output_type": "display_data",
          "data": {
            "image/png": "[encoded data removed]",
            "text/plain": [
              "<Figure size 432x288 with 1 Axes>"
            ]
          },
          "metadata": {
            "tags": [],
            "needs_background": "light"
          }
        }
      ]
    },
    {
      "cell_type": "code",
      "metadata": {
        "id": "vSWMYZWn5Rzb"
      },
      "source": [
        ""
      ],
      "execution_count": null,
      "outputs": []
    },
    {
      "cell_type": "code",
      "metadata": {
        "id": "_hpEmKQm5SM1"
      },
      "source": [
        ""
      ],
      "execution_count": null,
      "outputs": []
    }
  ]
}